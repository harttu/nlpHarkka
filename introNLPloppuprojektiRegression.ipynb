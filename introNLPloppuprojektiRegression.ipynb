{
  "nbformat": 4,
  "nbformat_minor": 0,
  "metadata": {
    "kernelspec": {
      "display_name": "Python 3",
      "language": "python",
      "name": "python3"
    },
    "language_info": {
      "codemirror_mode": {
        "name": "ipython",
        "version": 3
      },
      "file_extension": ".py",
      "mimetype": "text/x-python",
      "name": "python",
      "nbconvert_exporter": "python",
      "pygments_lexer": "ipython3",
      "version": "3.7.5"
    },
    "colab": {
      "name": "introNLPloppuprojektiRegression.ipynb",
      "provenance": [],
      "collapsed_sections": [],
      "toc_visible": true,
      "include_colab_link": true
    }
  },
  "cells": [
    {
      "cell_type": "markdown",
      "metadata": {
        "id": "view-in-github",
        "colab_type": "text"
      },
      "source": [
        "<a href=\"https://colab.research.google.com/github/harttu/nlpHarkka/blob/master/introNLPloppuprojektiRegression.ipynb\" target=\"_parent\"><img src=\"https://colab.research.google.com/assets/colab-badge.svg\" alt=\"Open In Colab\"/></a>"
      ]
    },
    {
      "cell_type": "markdown",
      "metadata": {
        "id": "y5teFeCChIiF",
        "colab_type": "text"
      },
      "source": [
        "#Intro to NLP coursework"
      ]
    },
    {
      "cell_type": "markdown",
      "metadata": {
        "id": "PzBoLwwPglvD",
        "colab_type": "text"
      },
      "source": [
        "##Getting data  from the server\n",
        "* Lemmatized version performs slightly better\n"
      ]
    },
    {
      "cell_type": "code",
      "metadata": {
        "id": "-HnLzrGhTDrU",
        "colab_type": "code",
        "outputId": "a42ce43e-0c45-49b8-9fd1-9aaf182529b6",
        "colab": {
          "base_uri": "https://localhost:8080/",
          "height": 228
        }
      },
      "source": [
        "file = \"\"\n",
        "!wget https://raw.githubusercontent.com/harttu/nlpHarkka/master/outputRegression.tsv\n",
        "file = \"outputRegression.tsv\"\n"
      ],
      "execution_count": 4,
      "outputs": [
        {
          "output_type": "stream",
          "text": [
            "--2020-03-17 15:48:07--  https://raw.githubusercontent.com/harttu/nlpHarkka/master/outputRegression.tsv\n",
            "Resolving raw.githubusercontent.com (raw.githubusercontent.com)... 151.101.0.133, 151.101.64.133, 151.101.128.133, ...\n",
            "Connecting to raw.githubusercontent.com (raw.githubusercontent.com)|151.101.0.133|:443... connected.\n",
            "HTTP request sent, awaiting response... 200 OK\n",
            "Length: 212264 (207K) [text/plain]\n",
            "Saving to: ‘outputRegression.tsv.1’\n",
            "\n",
            "\routputRegression.ts   0%[                    ]       0  --.-KB/s               \routputRegression.ts 100%[===================>] 207.29K  --.-KB/s    in 0.04s   \n",
            "\n",
            "2020-03-17 15:48:07 (4.59 MB/s) - ‘outputRegression.tsv.1’ saved [212264/212264]\n",
            "\n"
          ],
          "name": "stdout"
        }
      ]
    },
    {
      "cell_type": "markdown",
      "metadata": {
        "id": "OCj-NRtIg1D7",
        "colab_type": "text"
      },
      "source": [
        "## Building datamodel \n",
        " * Including neutral label, makes model perform very poorly\n",
        " "
      ]
    },
    {
      "cell_type": "code",
      "metadata": {
        "id": "W7EJ2jywbBpr",
        "colab_type": "code",
        "outputId": "c6615af3-3f89-4944-a278-912ad0c61f2e",
        "colab": {
          "base_uri": "https://localhost:8080/",
          "height": 72
        }
      },
      "source": [
        "import json\n",
        "import random\n",
        "import csv\n",
        "import numpy as np\n",
        "\n",
        "data = []\n",
        "with open(file) as csv_file:\n",
        "    csv_reader = csv.reader(csv_file, delimiter='\\t')\n",
        "    for row in csv_reader:\n",
        "      data.append({\"value\":float(row[0]),\"aspect\":row[1],\"before\":row[2],\"subject\":row[3],\"after\":row[4], \"text\":row[2]+\" \"+row[3]+\" \"+row[4]})\n",
        "\n",
        "random.shuffle(data)\n",
        "print(\"class values:\", data[0][\"value\"])\n",
        "print(\"text:\",data[0][\"text\"])"
      ],
      "execution_count": 48,
      "outputs": [
        {
          "output_type": "stream",
          "text": [
            "class values: 1.0\n",
            "text:  XMAS_EVET10 olla nyt nousta lukuinen uudelleen#kuuntelu myötä minä henkilö#kohtaisesti yksi hyvä Aphex Twin biisi ikinä kun eka kerta kuunnella levy niin jäädä tuo kohtaan levy läpi käyminen jumiin kun pitää kuunnella joku 3-4 kerta uudestaan heti :D\n"
          ],
          "name": "stdout"
        }
      ]
    },
    {
      "cell_type": "code",
      "metadata": {
        "id": "fupMIObgbBqR",
        "colab_type": "code",
        "outputId": "8ae04064-e374-43d5-822a-d12187ce5f3c",
        "colab": {
          "base_uri": "https://localhost:8080/",
          "height": 416
        }
      },
      "source": [
        "# We need to gather the texts and labels into separate lists\n",
        "texts=[one_example[\"text\"] for one_example in data]\n",
        "afters = [one_example[\"after\"] for one_example in data]\n",
        "subjects = [one_example[\"subject\"] for one_example in data]\n",
        "befores = [one_example[\"before\"] for one_example in data]\n",
        "\n",
        "values=[one_example[\"value\"] for one_example in data]\n",
        "\n",
        "print(\"This many texts\",len(texts))\n",
        "print(\"This many values\",len(values))\n",
        "print()\n",
        "for value,text in list(zip(values,texts))[:20]:\n",
        "    print(value,text[:50]+\"...\")\n",
        "\n"
      ],
      "execution_count": 49,
      "outputs": [
        {
          "output_type": "stream",
          "text": [
            "This many texts 955\n",
            "This many values 955\n",
            "\n",
            "1.0  XMAS_EVET10 olla nyt nousta lukuinen uudelleen#ku...\n",
            "0.0 no huh ! ei tietää että Bustickets olla julkaista ...\n",
            "0.0 about 30Gt kuulostaa aika vähältä kyllä Windowsill...\n",
            "0.6666666666666666 olla muuten hieno katsella joskus puulin pelejä ES...\n",
            "0.0 tämä ei pitää vähätellä edes huuliharpun kanssa kä...\n",
            "0.3333333333333333 niin siksi ihmettelinkin miksi puhua juuri 21 mega...\n",
            "1.0 Komea peli tuokin Itseäni kiinnostaa XM : O ja Cit...\n",
            "0.0 Sattuuko kukaan tietään mikä saada käsiinsä hesen ...\n",
            "0.0 Optima Service olla se toinen pulju ja se huoltaa ...\n",
            "0.0 Naurattaa kyllä tämä jengin viha ubuntua kohtaan P...\n",
            "0.0 Millä kielellä kannattaa ruveta vääntämään softa j...\n",
            "1.0 Kahden eri firman osakkeeseen itse sijottaisin its...\n",
            "1.0 2006 vuosi C6 olla ainakin ihan taivaallinen ajett...\n",
            "1.0  Barca sentään voittaa jokin ei vain jokin vaan li...\n",
            "-0.5 ilmeisesti läppärin käyttäminen auto olla uusi ! B...\n",
            "0.0 Häh olla Cadillac tehdä etuvetoisia autoja 60 - lu...\n",
            "1.0 tämä jätkät nyt höpöttää jokin aivan paska keskust...\n",
            "1.0 Pätee ehkä tiettyihin malleihin mutta kyllä bemari...\n",
            "0.0 Prossu tosiaan intelin i5-4670k ja lämpötila nousi...\n",
            "1.0  aetta olla kyllä upea hyvä#kuntoinen olla vaan ai...\n"
          ],
          "name": "stdout"
        }
      ]
    },
    {
      "cell_type": "code",
      "metadata": {
        "id": "lrUYNs4WYefI",
        "colab_type": "code",
        "colab": {}
      },
      "source": [
        "#vectorizer=TfidfVectorizer(max_features=100000,binary=True,ngram_range=(1,1))\n",
        "#feature_matrix=vectorizer.fit_transform(texts)"
      ],
      "execution_count": 0,
      "outputs": []
    },
    {
      "cell_type": "code",
      "metadata": {
        "id": "QpUrlI6mbBrf",
        "colab_type": "code",
        "outputId": "6dba8d39-bbfa-482c-a875-dd0b10cd364a",
        "colab": {
          "base_uri": "https://localhost:8080/",
          "height": 52
        }
      },
      "source": [
        "from sklearn.feature_extraction.text import CountVectorizer\n",
        "\n",
        "vectorizer=CountVectorizer(max_features=100000,binary=True,ngram_range=(1,1))\n",
        "feature_matrix=vectorizer.fit_transform(texts)\n",
        "print(\"shape=\",feature_matrix.shape)\n",
        "print(\"what did we get? ->\", feature_matrix.__class__)"
      ],
      "execution_count": 51,
      "outputs": [
        {
          "output_type": "stream",
          "text": [
            "shape= (955, 9902)\n",
            "what did we get? -> <class 'scipy.sparse.csr.csr_matrix'>\n"
          ],
          "name": "stdout"
        }
      ]
    },
    {
      "cell_type": "code",
      "metadata": {
        "id": "pP6KcmdubBsA",
        "colab_type": "code",
        "outputId": "7171d5e6-2ffe-47e5-8227-329cee29eb6f",
        "colab": {
          "base_uri": "https://localhost:8080/",
          "height": 54
        }
      },
      "source": [
        "print(vectorizer.get_feature_names()[:1000])"
      ],
      "execution_count": 52,
      "outputs": [
        {
          "output_type": "stream",
          "text": [
            "['000', '02', '04', '05', '07', '10', '100', '1000', '100e', '100km', '100tkm', '1080p', '10e', '10min', '11', '110', '1100', '112cdi', '112db', '12', '120', '1200e', '121', '123', '12c', '12volttia', '13', '130', '134a', '139e', '14', '140', '140099', '142mm', '144mm', '14e', '15', '150', '1500e', '150e', '150hv', '15tkm', '16', '1600', '16gb', '16x', '17', '175000', '18', '183', '185', '189e', '19', '190e', '1919', '1978', '1982', '1991', '1992', '1993', '1997', '19v', '1al', '1ma', '20', '200', '2000', '2000kg', '2002', '2004', '2006', '2009', '200ma', '2011', '2012', '2013', '2014', '2015', '2016', '2020', '204hv', '205', '206', '20v', '21', '211', '23', '24', '242', '248', '24h', '25', '250', '250hp', '256', '26', '2600k', '265', '267923185922621440', '26kansi', '27', '280', '280x', '284', '29', '290x', '2d', '2e', '2k', '2kki', '2paloa', '2vuotta', '30', '300', '3000', '300hp', '300tkm', '301', '308', '30gt', '30tkm', '31', '3138eo', '318', '32', '320', '325', '325i', '328', '33', '330', '330d', '3331', '350', '3632qm', '383', '38e', '390nm', '3d', '3dmark', '3kpl', '3literinen', '3x', '40', '400', '4000s', '400e', '400ml', '400tkm', '407', '42', '420p', '425', '43', '448', '45', '450e', '45e', '46', '4670k', '47', '47as650e', '4g', '4gb', '4get', '4ghz', '4k', '4sn', '50', '500', '5000', '500e', '500gb', '500tkm', '50cm', '50g', '520', '55', '550w', '560', '5e', '5ghz', '5kk', '5l', '5s', '5sek', '5v', '5vuotta', '60', '600', '600e', '60fps', '60hv', '60km', '620', '630', '64bit', '65', '650', '66', '6870', '69', '6gb', '6l', '6milliä', '6v', '6vti', '70', '700ml', '70m', '710', '720', '740', '740i', '75', '760', '770', '771g', '79c', '7l', '80', '800', '8000rpm', '80e', '80usd', '8350', '850', '8e', '8gb', '8k', '8v', '90', '900', '9000', '911', '920', '92vm', '939', '94', '940', '95', '95a', '960', '97', '970', '98', '980', '99', '99a', '9l', '9tdi', '__', '_en', 'a2', 'a4', 'a5', 'a6', 'a600', 'a8', 'aa', 'aamulehti', 'aamulla', 'aamut', 'aan', 'aani', 'aapl', 'aatteisiinsa', 'ab', 'abc', 'about', 'absolutella', 'absolutia', 'accord', 'accounts', 'acer', 'acerin', 'adam', 'adapteri', 'admin', 'adobe', 'adsensen', 'adsl', 'ae86', 'aeg', 'aen', 'aero', 'aerodynaamisesti', 'aetta', 'aeturnuksella', 'afterbang', 'agallochista', 'ahdetuista', 'ahjo', 'ai', 'aidosti', 'aiemmin', 'aiemminhan', 'aiemminkin', 'aiempien', 'aihe', 'aiheena', 'aiheesen', 'aiheesta', 'aiheuttaa', 'aiheuttaja', 'aihioon', 'aik', 'aika', 'aikaan', 'aikainen', 'aikaiseksi', 'aikaisemmassa', 'aikaisemmatkin', 'aikaisempi', 'aikaisille', 'aikakauden', 'aikakin', 'aikalailla', 'aikamme', 'aikamoisia', 'aikana', 'aikanaan', 'aikanani', 'aikasemmin', 'aikavälillä', 'aikeita', 'aikoa', 'aikoina', 'aikuinen', 'aikuiset', 'aikuisten', 'aimtopin', 'ain', 'aina', 'ainahan', 'ainaisten', 'ainakaan', 'ainaki', 'ainakin', 'aine', 'aineista', 'aineksia', 'ainiin', 'aino', 'ainoa', 'ainoastaan', 'ainut', 'aio', 'aion', 'airi', 'airin', 'airsoft', 'airsoftprosta', 'aisoissa', 'aito', 'aivan', 'aivotyö', 'aja', 'ajaa', 'ajaksi', 'ajallisesti', 'ajalta', 'ajaminen', 'ajamiseen', 'ajan', 'ajanut', 'ajasta', 'ajastasi', 'ajatella', 'ajatellaan', 'ajatellut', 'ajateltuna', 'ajaton', 'ajattelin', 'ajatus', 'ajavan', 'ajavat', 'ajaxin', 'ajelin', 'ajella', 'ajeltaessa', 'ajettaessa', 'ajettava', 'ajo', 'ajoi', 'ajoin', 'ajoissa', 'ajoista', 'ajoittaninen', 'ajon', 'ajureista', 'ajureita', 'ajuri', 'ajurin', 'ajurit', 'ak', 'akateeminen', 'akku', 'akkua', 'akkujen', 'akkulaturia', 'akkupalkit', 'akkuparistoja', 'akryylimaalit', 'akselilla', 'akselin', 'aktiivinen', 'aktiivisest', 'aktiivisesti', 'aktiivisestihoidettujen', 'aktivointi', 'akussa', 'akustinen', 'akut', 'al', 'ala', 'alankomai', 'alapään', 'alareunastaan', 'alariville', 'alas', 'alaspäin', 'alat', 'alba', 'albumi', 'alcostore', 'alemmalla', 'alennan', 'alennuksessa', 'alennuksesta', 'alettiin', 'alexandria', 'alfa', 'algoritmejä', 'alhaisia', 'alibabaa', 'alibudjetointi', 'alibudjetonti', 'alijäämäinen', 'alkaa', 'alkaako', 'alkaen', 'alkaneet', 'alkanu', 'alkanut', 'alkavat', 'alkeellisimmatkin', 'alkeiskursseja', 'alkeiskurssia', 'alkeiskurssit', 'alko', 'alkoholi', 'alkoholijuomat', 'alkoholilakeja', 'alkoholin', 'alkon', 'alkossa', 'alku', 'alkuisen', 'alkukeväältä', 'alkuperäis', 'alkuperäiset', 'alkusijoituksensa', 'alkuunsa', 'alkuysäri', 'alla', 'alle', 'allmountain', 'allokoimatta', 'allokointia', 'allsvenskan', 'allsvenskaniin', 'allsvenskanin', 'almera', 'aloin', 'aloitanko', 'aloitin', 'aloitit', 'aloittaa', 'aloittamiseen', 'aloittavani', 'aloittelija', 'aloittelijalla', 'aloittelijan', 'aloittelijaystävällisiä', 'aloittivat', 'aloitukseen', 'aloituspaikat', 'alotella', 'alottelen', 'alpeilla', 'alpineissa', 'alpinen', 'alta', 'alue', 'aluksi', 'alumiini', 'alumiininen', 'alumiinivanteet', 'alunperin', 'alussa', 'alusta', 'alustaa', 'alustoille', 'alustoista', 'amazon', 'amazonista', 'ambientkiekko', 'amd', 'ameriikkalainen', 'amerikka', 'amerikkaan', 'amerikkalainen', 'amerikkalaiset', 'amerikkalaisia', 'amg', 'amiksessa', 'ammatti', 'ammattilainen', 'ammattilaisille', 'ammattilaisseura', 'ammattiliittoihin', 'ammattimaisesta', 'ammattitaidottomia', 'amount', 'ampua', 'an', 'analogiaa', 'analoginen', 'anathemat', 'android', 'androidia', 'androidikin', 'androidilla', 'androidille', 'androidin', 'androidista', 'angosturan', 'angry', 'animals', 'animekäyttöön', 'ankari', 'ankeat', 'anna', 'annan', 'annoin', 'annoksessa', 'annos', 'anonyymi', 'another', 'ansainnut', 'ansaitsekkaan', 'ansaitsisin', 'antaa', 'antaisin', 'antautuu', 'antavat', 'antis', 'antivirukset', 'antivirus', 'antivirusohjelmat', 'ap', 'apa', 'aphex', 'apinaohjeita', 'apli', 'apn', 'apoeli', 'appelsiinimehu', 'appiaan', 'apple', 'applede', 'appleen', 'applen', 'applikaatiot', 'appsit', 'aps', 'aps3', 'apu', 'arc', 'arcp', 'ardbeg', 'areenalla', 'arlan', 'arma', 'army', 'arsenal', 'arshavin', 'arsu', 'arsulla', 'arsun', 'artisteja', 'arvata', 'arvo', 'arvoa', 'arvoinen', 'arvoiset', 'arvoisia', 'arvoja', 'arvokas', 'arvokkaamman', 'arvokkaampi', 'arvokkaasti', 'arvokkain', 'arvon', 'arvonlisäveronsa', 'arvosanat', 'arvosta', 'arvostan', 'arvostelu', 'arvostelut', 'arvostuksesta', 'asaanut', 'asema', 'asemalla', 'aseman', 'asenna', 'asennella', 'asennettu', 'asennettuna', 'asennuksella', 'asensin', 'asentaa', 'asentamiseen', 'asentanut', 'asento', 'asentua', 'asetelma', 'aseteltu', 'asetukset', 'asetuksissa', 'asia', 'asiaan', 'asiaansa', 'asiakas', 'asiakasta', 'asiallinen', 'asiallisesta', 'asialliset', 'asian', 'asianmukaisesti', 'asiantuntemusta', 'asiantuntevaa', 'asiantuntijat', 'asiassa', 'asiasta', 'asiat', 'asic', 'asioihin', 'asioissa', 'askeleen', 'aski', 'asking', 'asp', 'asphodel', 'aspire', 'asrock', 'asteen', 'asti', 'aston', 'asu', 'asuinpaikka', 'asuksen', 'asun', 'asuntorahastojen', 'asuntorahastot', 'asus', 'asut', 'asvaltilla', 'ateria', 'athletics', 'ati', 'atk', 'atletico', 'atleticon', 'atletin', 'atmega', 'atom', 'atomi', 'atomicit', 'atomien', 'atrian', 'audacity', 'audeissa', 'audeja', 'audi', 'audia', 'audiin', 'audiini', 'audikaupasta', 'audikauppias', 'audille', 'audilta', 'audin', 'audio', 'audion', 'audit', 'aukeaa', 'auki', 'aukko', 'aukkoja', 'auktoriteettiasema', 'aurinko', 'aurinkoranta', 'auta', 'autentikointi', 'auti', 'autistien', 'auto', 'autohan', 'autoihin', 'autoilla', 'autoista', 'autoja', 'autojen', 'autokanta', 'autoksi', 'autollaan', 'autolle', 'autoluokkia', 'automaatti', 'automaattia', 'automaattilaatikko', 'automaattinen', 'automaattisesti', 'automalleihin', 'autoon', 'autoonn', 'autosta', 'autot', 'autotallin', 'autothan', 'auttaa', 'auttakaa', 'auttanut', 'auvosta', 'avaa', 'avaamalla', 'avaamista', 'availin', 'avaimen', 'avaimet', 'avasi', 'avast', 'avata', 'avatessaan', 'avattuasi', 'avensikseen', 'avensiksessa', 'avensis', 'avensista', 'avg', 'aviar', 'avo', 'avoimesti', 'avoimet', 'avx2', 'awilcoa', 'aztra', 'aztran', 'b200k', 'b230ft', 'b230k', 'b5', 'b7', 'baareihin', 'baareissakin', 'baarimestarilta', 'baarissa', 'baarivälineet', 'babys', 'bacardi', 'back', 'backspace', 'backup', 'baconikin', 'bakteerin', 'ballantine', 'ballstreams', 'banaanilla', 'bank', 'barca', 'barcank', 'barcasta', 'barcelona', 'barcelonalle', 'baron', 'bashaamiseen', 'batchin', 'batterya', 'battlefield', 'bay', 'bayern', 'bayernin', 'bbc', 'bbj', 'bdw', 'beast', 'beat', 'beatles', 'because', 'bell', 'beluga', 'belvedereä', 'bemareiden', 'bemareihin', 'bemareilla', 'bemari', 'bemaria', 'bemarilla', 'bemarissa', 'bemarit', 'bemarithan', 'bemmit', 'bemut', 'benchmark', 'benchmarkkeja', 'bensa', 'bensakoneella', 'bensamoottoreihin', 'bensapumpusta', 'bensas', 'benz', 'berkshirelle', 'bertonen', 'best', 'betistä', 'better', 'bf3', 'bf4', 'biide', 'biisi', 'biisiä', 'biisu', 'biitit', 'bike', 'bilt', 'bimmereiden', 'biosi', 'biosin', 'biotiehen', 'bird', 'birds', 'birdsiä', 'bisnekset', 'bitcoineilla', 'bitcointalk', 'bitti', 'bittinen', 'bjj', 'blaabla', 'black', 'blandikset', 'blend', 'blenderini', 'blizzardeista', 'bloattia', 'bloattiframework', 'bloatwarella', 'blogitrendifoodie', 'blood', 'blue', 'blueja', 'blues', 'bluescreeniä', 'bluetoothilla', 'bmw', 'bmx', 'boards', 'bob', 'bodomvaiheen', 'boikotoida', 'bombay', 'bonari', 'bones', 'bonesit', 'bongannut', 'bongata', 'bongattu', 'bonuksena', 'bonuksia', 'bonus', 'bonuskorttia', 'bookki', 'bootata', 'bootissa', 'bootstrap', 'bootterit', 'bootti', 'borgiin', 'bose', 'boss', 'boston', 'botit', 'bourbonia', 'boxi', 'boxing', 'boys', 'brandinimi', 'bravia', 'brewdogia', 'brilliant', 'brin', 'brittifutis', 'broid', 'brommapojkarnan', 'brostep', 'brostepin', 'bruichladdich', 'brändättyjä', 'bsd', 'bt', 'btw', 'budjetti', 'bueno', 'buffet', 'buffett', 'bugaavan', 'bugeja', 'buginen', 'bulgarialainen', 'bulkimpaa', 'bullin', 'bump', 'bumppaan', 'bumppaillaan', 'bumppaillaas', 'burger', 'burgereita', 'burgerit', 'burning', 'bussipysäkillä', 'bustickets', 'butterflylabsin', 'buuttaava', 'buzz', 'by', 'byrokratiaa', 'bändei', 'bändejä', 'bändi', 'bändin', 'bängää', 'böndelle', 'c11', 'c6', 'cach', 'cadillac', 'cafegrano', 'calan', 'caliber', 'call', 'called', 'camparin', 'camparista', 'camryn', 'canyon', 'capmania', 'car', 'carabon', 'cargotec', 'carne', 'carnea', 'carneen', 'carnen', 'carrickia', 'catalyst', 'caviar', 'cc', 'ccrän', 'cd', 'cde123r', 'cde9880r', 'celeron', 'cerviniasta', 'ceyloniin', 'cfm', 'ch', 'chamonixissa', 'champ', 'changin', 'charge', 'cheddaria', 'chelsea', 'chelsealla', 'chelsealle', 'chelsealta', 'chelseassa', 'chili', 'chilicon', 'chkdsk', 'chop', 'chopin', 'chrome', 'chromeen', 'chromium', 'chromiumista', 'chrysler', 'ci', 'cinnamonia']\n"
          ],
          "name": "stdout"
        }
      ]
    },
    {
      "cell_type": "markdown",
      "metadata": {
        "id": "IXatmcqHbBsR",
        "colab_type": "text"
      },
      "source": [
        "# Data split\n",
        "\n"
      ]
    },
    {
      "cell_type": "code",
      "metadata": {
        "id": "KUWEL26QbBsV",
        "colab_type": "code",
        "colab": {}
      },
      "source": [
        "from sklearn.model_selection import train_test_split\n",
        "\n",
        "train_texts, dev_texts, train_values, dev_values=train_test_split(texts,values,test_size=0.2)\n",
        "vectorizer=CountVectorizer(max_features=1000,binary=True,ngram_range=(1,1))\n",
        "feature_matrix_train=vectorizer.fit_transform(train_texts)\n",
        "\n",
        "feature_matrix_train=vectorizer.fit_transform(train_texts)\n",
        "feature_matrix_dev=vectorizer.transform(dev_texts)"
      ],
      "execution_count": 0,
      "outputs": []
    },
    {
      "cell_type": "code",
      "metadata": {
        "id": "qzxeKGJybBsk",
        "colab_type": "code",
        "outputId": "48980f96-7fca-48a6-d25b-bd65c49d213b",
        "colab": {
          "base_uri": "https://localhost:8080/",
          "height": 52
        }
      },
      "source": [
        "print(feature_matrix_train.shape)\n",
        "print(feature_matrix_dev.shape)"
      ],
      "execution_count": 73,
      "outputs": [
        {
          "output_type": "stream",
          "text": [
            "(764, 1000)\n",
            "(191, 1000)\n"
          ],
          "name": "stdout"
        }
      ]
    },
    {
      "cell_type": "markdown",
      "metadata": {
        "id": "Jx7xH28lbBsw",
        "colab_type": "text"
      },
      "source": [
        "# Classifier train\n"
      ]
    },
    {
      "cell_type": "code",
      "metadata": {
        "id": "2ZrC1KqBMQ2K",
        "colab_type": "code",
        "colab": {
          "base_uri": "https://localhost:8080/",
          "height": 52
        },
        "outputId": "28b0def7-c08f-48b5-ff31-a5b9fb491f83"
      },
      "source": [
        "from sklearn.linear_model import LinearRegression\n",
        "from sklearn.linear_model import Ridge\n",
        "\n",
        "reg = LinearRegression().fit(feature_matrix_train, train_values)\n",
        "clf = Ridge(alpha=10)\n",
        "clf.fit(feature_matrix_train, train_values)"
      ],
      "execution_count": 74,
      "outputs": [
        {
          "output_type": "execute_result",
          "data": {
            "text/plain": [
              "Ridge(alpha=10, copy_X=True, fit_intercept=True, max_iter=None, normalize=False,\n",
              "      random_state=None, solver='auto', tol=0.001)"
            ]
          },
          "metadata": {
            "tags": []
          },
          "execution_count": 74
        }
      ]
    },
    {
      "cell_type": "code",
      "metadata": {
        "id": "PdLG0PAjZFMb",
        "colab_type": "code",
        "outputId": "35ec58db-f3e1-4bb6-aea5-75a6cdbf9c4d",
        "colab": {
          "base_uri": "https://localhost:8080/",
          "height": 121
        }
      },
      "source": [
        "print(\"LinearRegression\")\n",
        "print(\"DEV\",reg.score(feature_matrix_dev, dev_values))\n",
        "print(\"TRAIN\",reg.score(feature_matrix_train, train_values))\n",
        "\n",
        "print(\"Ridge\")\n",
        "print(\"DEV\",clf.score(feature_matrix_dev, dev_values))\n",
        "print(\"TRAIN\",clf.score(feature_matrix_train, train_values))"
      ],
      "execution_count": 75,
      "outputs": [
        {
          "output_type": "stream",
          "text": [
            "LinearRegression\n",
            "DEV -3.2807518622751513\n",
            "TRAIN 0.999999999996582\n",
            "Ridge\n",
            "DEV -0.10579359253224241\n",
            "TRAIN 0.5180492395354372\n"
          ],
          "name": "stdout"
        }
      ]
    },
    {
      "cell_type": "markdown",
      "metadata": {
        "id": "npgsixMUOdz-",
        "colab_type": "text"
      },
      "source": [
        "## Toy data for benchmarking"
      ]
    },
    {
      "cell_type": "code",
      "metadata": {
        "id": "s7cl4nhmNBZ0",
        "colab_type": "code",
        "outputId": "8bf86d53-3c39-47aa-aee1-e616f6737366",
        "colab": {
          "base_uri": "https://localhost:8080/",
          "height": 52
        }
      },
      "source": [
        "TOYtexts = texts\n",
        "random.shuffle(TOYtexts)\n",
        "TOYvalues = values\n",
        "# classifier\n",
        "TOYreg = LinearRegression().fit(feature_matrix_train, train_values)\n",
        "# data split\n",
        "TOYtrain_texts, TOYdev_texts, TOYtrain_values, TOYdev_values=train_test_split(TOYtexts,TOYvalues,test_size=0.2)\n",
        "# vectorizer\n",
        "TOYvectorizer=CountVectorizer(max_features=100000,binary=True,ngram_range=(1,1))\n",
        "# training\n",
        "TOYfeature_matrix_train=TOYvectorizer.fit_transform(TOYtrain_texts)\n",
        "# apply model\n",
        "TOYfeature_matrix_dev=TOYvectorizer.transform(TOYdev_texts)\n",
        "# let the model try to do its best\n",
        "TOYreg.fit(TOYfeature_matrix_train, TOYtrain_values)\n",
        "# examine scores\n",
        "print(\"TOYDEV\",TOYreg.score(TOYfeature_matrix_dev, TOYdev_values))\n",
        "print(\"TOYTRAIN\",TOYreg.score(TOYfeature_matrix_train, TOYtrain_values))\n"
      ],
      "execution_count": 76,
      "outputs": [
        {
          "output_type": "stream",
          "text": [
            "TOYDEV -0.24900242778339512\n",
            "TOYTRAIN 0.9999999999999594\n"
          ],
          "name": "stdout"
        }
      ]
    },
    {
      "cell_type": "code",
      "metadata": {
        "id": "cyPf2_rZgVdO",
        "colab_type": "code",
        "colab": {}
      },
      "source": [
        ""
      ],
      "execution_count": 0,
      "outputs": []
    }
  ]
}