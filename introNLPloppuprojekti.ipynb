{
  "nbformat": 4,
  "nbformat_minor": 0,
  "metadata": {
    "kernelspec": {
      "display_name": "Python 3",
      "language": "python",
      "name": "python3"
    },
    "language_info": {
      "codemirror_mode": {
        "name": "ipython",
        "version": 3
      },
      "file_extension": ".py",
      "mimetype": "text/x-python",
      "name": "python",
      "nbconvert_exporter": "python",
      "pygments_lexer": "ipython3",
      "version": "3.7.5"
    },
    "colab": {
      "name": "introNLPloppuprojekti.ipynb",
      "provenance": [],
      "toc_visible": true,
      "include_colab_link": true
    }
  },
  "cells": [
    {
      "cell_type": "markdown",
      "metadata": {
        "id": "view-in-github",
        "colab_type": "text"
      },
      "source": [
        "<a href=\"https://colab.research.google.com/github/harttu/nlpHarkka/blob/master/introNLPloppuprojekti.ipynb\" target=\"_parent\"><img src=\"https://colab.research.google.com/assets/colab-badge.svg\" alt=\"Open In Colab\"/></a>"
      ]
    },
    {
      "cell_type": "markdown",
      "metadata": {
        "id": "y5teFeCChIiF",
        "colab_type": "text"
      },
      "source": [
        "#Intro to NLP coursework"
      ]
    },
    {
      "cell_type": "markdown",
      "metadata": {
        "id": "PzBoLwwPglvD",
        "colab_type": "text"
      },
      "source": [
        "##Getting data  from the server\n",
        "* Lemmatized version performs slightly better\n"
      ]
    },
    {
      "cell_type": "code",
      "metadata": {
        "id": "vEmcQBxXd6c0",
        "colab_type": "code",
        "colab": {}
      },
      "source": [
        "useLemmatization = False"
      ],
      "execution_count": 0,
      "outputs": []
    },
    {
      "cell_type": "code",
      "metadata": {
        "id": "-HnLzrGhTDrU",
        "colab_type": "code",
        "outputId": "99daa029-e1fb-40e3-8b83-270962030d03",
        "colab": {
          "base_uri": "https://localhost:8080/",
          "height": 228
        }
      },
      "source": [
        "file = \"\"\n",
        "if useLemmatization:\n",
        "  !wget https://raw.githubusercontent.com/harttu/nlpHarkka/master/outputLemmaUniq.tsv\n",
        "  file = \"outputLemmaUniq.tsv\"\n",
        "else:\n",
        "  !wget https://raw.githubusercontent.com/harttu/nlpHarkka/master/outputNormiUniq.tsv\n",
        "  file = \"outputNormiUniq.tsv\""
      ],
      "execution_count": 0,
      "outputs": [
        {
          "output_type": "stream",
          "text": [
            "--2020-03-17 17:57:28--  https://raw.githubusercontent.com/harttu/nlpHarkka/master/outputNormiUniq.tsv\n",
            "Resolving raw.githubusercontent.com (raw.githubusercontent.com)... 151.101.0.133, 151.101.64.133, 151.101.128.133, ...\n",
            "Connecting to raw.githubusercontent.com (raw.githubusercontent.com)|151.101.0.133|:443... connected.\n",
            "HTTP request sent, awaiting response... 200 OK\n",
            "Length: 285600 (279K) [text/plain]\n",
            "Saving to: ‘outputNormiUniq.tsv.1’\n",
            "\n",
            "\routputNormiUniq.tsv   0%[                    ]       0  --.-KB/s               \routputNormiUniq.tsv 100%[===================>] 278.91K  --.-KB/s    in 0.03s   \n",
            "\n",
            "2020-03-17 17:57:28 (9.36 MB/s) - ‘outputNormiUniq.tsv.1’ saved [285600/285600]\n",
            "\n"
          ],
          "name": "stdout"
        }
      ]
    },
    {
      "cell_type": "markdown",
      "metadata": {
        "id": "OCj-NRtIg1D7",
        "colab_type": "text"
      },
      "source": [
        "## Building datamodel \n",
        " * Including neutral label, makes model perform very poorly\n",
        " "
      ]
    },
    {
      "cell_type": "code",
      "metadata": {
        "id": "W7EJ2jywbBpr",
        "colab_type": "code",
        "outputId": "75dffc86-345a-4eff-bb30-84c53732e3f4",
        "colab": {
          "base_uri": "https://localhost:8080/",
          "height": 72
        }
      },
      "source": [
        "import json\n",
        "import random\n",
        "import csv\n",
        "import numpy as np\n",
        "\n",
        "data = []\n",
        "with open(file) as csv_file:\n",
        "    csv_reader = csv.reader(csv_file, delimiter='\\t')\n",
        "    #line_count = 0\n",
        "    for row in csv_reader:\n",
        "      # get rid of the neutral class\n",
        "      if row[0] != \"neutral\":\n",
        "        data.append({\"class\":row[0],\"aspect\":row[1],\"before\":row[2],\"subject\":row[3],\"after\":row[4], \"text\":row[2]+\" \"+row[3]+\" \"+row[4]})\n",
        "\n",
        "#data = dict(filter(lambda x: True if x.class != \"neutral\" else False, data.items()))\n",
        "random.shuffle(data) #play it safe! (why?)\n",
        "print(\"class label:\", data[0][\"class\"])\n",
        "print(\"text:\",data[0][\"text\"])"
      ],
      "execution_count": 0,
      "outputs": [
        {
          "output_type": "stream",
          "text": [
            "class label: negative\n",
            "text: Ei mäcissä vikaa ole , mutta monivarsi on parempi .  Mäcci  on kustannustehokas kompromissi . Monivarsi voidaan kustomoida paremmin eri automalleihin , mäcciä ei .\n"
          ],
          "name": "stdout"
        }
      ]
    },
    {
      "cell_type": "code",
      "metadata": {
        "id": "fupMIObgbBqR",
        "colab_type": "code",
        "outputId": "f8002e15-de52-4f99-8a48-783fc35d6dfc",
        "colab": {
          "base_uri": "https://localhost:8080/",
          "height": 416
        }
      },
      "source": [
        "# We need to gather the texts and labels into separate lists\n",
        "texts=[one_example[\"text\"] for one_example in data]\n",
        "afters = [one_example[\"after\"] for one_example in data]\n",
        "subjects = [one_example[\"subject\"] for one_example in data]\n",
        "befores = [one_example[\"before\"] for one_example in data]\n",
        "\n",
        "labels=[one_example[\"class\"] for one_example in data]\n",
        "\n",
        "print(\"This many texts\",len(texts))\n",
        "print(\"This many labels\",len(labels))\n",
        "print()\n",
        "for label,text in list(zip(labels,texts))[:20]:\n",
        "    print(label,text[:50]+\"...\")\n",
        "\n"
      ],
      "execution_count": 0,
      "outputs": [
        {
          "output_type": "stream",
          "text": [
            "This many texts 672\n",
            "This many labels 672\n",
            "\n",
            "negative Ei mäcissä vikaa ole , mutta monivarsi on parempi ...\n",
            "positive  Suzukisi  oli nelari mutta juuri tollaista jotaki...\n",
            "positive Ainakin  Citymarketeissa  oon nähnyt , mutta ekoka...\n",
            "positive Itselleni tulee ensiviikolla postissa  MPC Studio ...\n",
            "negative Ei se ihan niinkään ole . Java 7 on nyt se juttu j...\n",
            "positive Kerrotko jonkun ominaisuuden vim:ssä mitä ei saa e...\n",
            "positive >pakko ostaa Samsungia hieman hymyilin ääneen tuos...\n",
            "positive Soijasuikaleita on itse tullut vedettyä kanan korv...\n",
            "negative No bemarilla taisi rajoittua suurimmat ongelmat m5...\n",
            "positive Lisätään vielä että liikenteen prioriteetti on var...\n",
            "positive Kyllä tämä on enemmänkin Grimea kuin Memphisiä . A...\n",
            "negative Muistellaanko yhdessä kuinka reilua on verrata kel...\n",
            "positive Onhan niitä , mutta kunnolliset ohjelmat esim  ear...\n",
            "positive > Tosin ei varmaan mukavuuksilta samaa tasoa kuin ...\n",
            "negative  740i : ssä  ei ole turboja joten niiden vaihtamin...\n",
            "positive Siis mikä ihmeen juttu tää on olevinaan kun kaikki...\n",
            "positive UK Amazonista lähtee 8 punnalla 30 pakettia  YumYu...\n",
            "positive Kannattaako aloittelijan pysytellä noissa oman pan...\n",
            "positive Clio V6 : n itsekin ostaisin jos sellainen tulisi ...\n",
            "negative Jep . En ole ihan varma mitä itse odotin . Olin tu...\n"
          ],
          "name": "stdout"
        }
      ]
    },
    {
      "cell_type": "code",
      "metadata": {
        "id": "lrUYNs4WYefI",
        "colab_type": "code",
        "colab": {}
      },
      "source": [
        "#vectorizer=TfidfVectorizer(max_features=100000,binary=True,ngram_range=(1,1))\n",
        "#feature_matrix=vectorizer.fit_transform(texts)"
      ],
      "execution_count": 0,
      "outputs": []
    },
    {
      "cell_type": "code",
      "metadata": {
        "id": "QpUrlI6mbBrf",
        "colab_type": "code",
        "outputId": "44472d1f-2b74-4aa8-d6b8-741b5a114ee2",
        "colab": {
          "base_uri": "https://localhost:8080/",
          "height": 52
        }
      },
      "source": [
        "from sklearn.feature_extraction.text import CountVectorizer\n",
        "\n",
        "\n",
        "\n",
        "vectorizer=CountVectorizer(max_features=100000,binary=True,ngram_range=(1,1))\n",
        "feature_matrix=vectorizer.fit_transform(texts)\n",
        "print(\"shape=\",feature_matrix.shape)\n",
        "print(\"what did we get? ->\", feature_matrix.__class__)"
      ],
      "execution_count": 0,
      "outputs": [
        {
          "output_type": "stream",
          "text": [
            "shape= (672, 8113)\n",
            "what did we get? -> <class 'scipy.sparse.csr.csr_matrix'>\n"
          ],
          "name": "stdout"
        }
      ]
    },
    {
      "cell_type": "code",
      "metadata": {
        "id": "pP6KcmdubBsA",
        "colab_type": "code",
        "outputId": "3b7cb30a-0696-4004-d622-b6efba8468fe",
        "colab": {
          "base_uri": "https://localhost:8080/",
          "height": 54
        }
      },
      "source": [
        "print(vectorizer.get_feature_names()[:1000])"
      ],
      "execution_count": 0,
      "outputs": [
        {
          "output_type": "stream",
          "text": [
            "['04', '07', '10', '100', '1000', '100e', '100km', '100tkm', '10e', '10min', '11', '1100', '112cdi', '112db', '12', '120', '1200e', '121', '123', '12c', '13', '130', '134a', '139e', '14', '140', '142mm', '144mm', '14e', '15', '150', '1500e', '15tkm', '16', '16gb', '16x', '17', '175000', '18', '189e', '19', '1919', '1978', '1982', '1991', '1992', '1993', '19v', '1a', '1ma', '20', '200', '2000', '2000kg', '2002', '2004', '2006', '2009', '2012', '2013', '2014', '2015', '2016', '2020', '205', '20v', '21', '211', '23', '24', '242', '248', '25', '250', '250hp', '256', '26', '265', '26kansi', '27', '280', '280x', '284', '2e', '2k', '2kk', '2paloa', '30', '300', '300hp', '300tkm', '301', '308', '30tkm', '320', '325', '325i', '328', '33', '330', '3331', '350', '3632qm', '38e', '3d', '3kpl', '3literisellä', '3x', '40', '4000s', '400e', '400tkm', '407', '42', '420p', '43', '448', '45', '45e', '47', '4get', '4ghz', '4k', '50', '500', '500e', '500gb', '50cm', '50g', '520', '55', '550w', '560', '5e', '5ghz', '5kk', '5l', '5s', '5sek', '5v', '5vuotta', '60', '600', '600e', '60fps', '60hv', '60km', '630', '64bit', '650', '66', '6870', '69', '6gb', '6l', '6v', '6vti', '70', '70m', '740', '740i', '75', '760', '771g', '7l', '80', '8000rpm', '80e', '8350', '850', '8gb', '8k', '90', '900', '9000', '911', '920', '92vm', '939', '940', '95', '960', '97', '970', '98', '980', '99', '9l', '9tdi', '_en', 'a4', 'a6', 'a600', 'aa', 'aamulla', 'aan', 'aatteisiinsa', 'ab', 'about', 'absolutella', 'absolutia', 'accord', 'acer', 'acerin', 'adapteri', 'admin', 'adobe', 'ae86', 'aen', 'aerodynaamisesti', 'aerokypärä', 'aeturnuksella', 'afterbang', 'agallochista', 'ahdetuista', 'ahjo', 'ai', 'aidosti', 'aiemmin', 'aiemminkin', 'aihe', 'aiheena', 'aiheesen', 'aiheesta', 'aiheuttaa', 'aiheuttaja', 'aiheuttajaa', 'aihioon', 'aijo', 'aik', 'aika', 'aikaa', 'aikaan', 'aikainen', 'aikaiseksi', 'aikaisemmatkin', 'aikaisemmista', 'aikaisempaan', 'aikakauden', 'aikakin', 'aikalailla', 'aikamme', 'aikana', 'aikanaan', 'aikanani', 'aikatauluja', 'aikavälillä', 'aikoina', 'aikoinaan', 'aikojen', 'aikuinen', 'aikuisten', 'aina', 'ainahan', 'ainakaan', 'ainaki', 'ainakin', 'aine', 'aineista', 'ainiin', 'ainoa', 'ainoastaan', 'ainoita', 'ainut', 'aio', 'aion', 'airin', 'airit', 'airsoft', 'aisoissa', 'aito', 'aivan', 'aivotyö', 'aja', 'ajaa', 'ajalta', 'ajamaan', 'ajaminen', 'ajamista', 'ajan', 'ajanut', 'ajasta', 'ajastasi', 'ajatella', 'ajatellaan', 'ajatellen', 'ajateltuna', 'ajaton', 'ajattelin', 'ajatus', 'ajavan', 'ajavat', 'ajaxin', 'ajelisin', 'ajeltaessa', 'ajettaessa', 'ajettava', 'ajettu', 'ajo', 'ajoi', 'ajoin', 'ajoissa', 'ajoittaninen', 'ajon', 'ajotilanteissa', 'ajotyyli', 'ajureita', 'ajuri', 'ajurit', 'akateeminen', 'akku', 'akkua', 'akkupalkit', 'akryylimaalit', 'akselilla', 'akselin', 'aktiivisest', 'aktiivisesti', 'akustinen', 'al', 'ala', 'alankomaissa', 'alareunastaan', 'alariville', 'alas', 'alaspäin', 'alat', 'alaväännöltään', 'albumista', 'alcostore', 'alemmalla', 'alennuksessa', 'alennuksesta', 'alettiin', 'alfa', 'alibabaa', 'alibudjetointi', 'alibudjetonti', 'alijäämäinen', 'alkaa', 'alkaisi', 'alkaneet', 'alkanu', 'alkavat', 'alkeellisimmatkin', 'alkoholijuomat', 'alkoholilakeja', 'alkoholin', 'alkoi', 'alkon', 'alkossa', 'alkuisen', 'alkukankeuden', 'alkuperäinen', 'alkuperäis', 'alkuperäiset', 'alkuperäisvarusteena', 'alkuun', 'alkuunsa', 'alkuviikosta', 'alkuysärin', 'alla', 'alle', 'allmountain', 'allokoimatta', 'allokointia', 'allsvenskaniin', 'allsvenskanin', 'allsvenskanissa', 'almera', 'aloin', 'aloitin', 'aloitit', 'aloittaa', 'aloittamiseen', 'aloittelijalla', 'aloittelijalle', 'aloittelijan', 'aloittelijaystävällisiä', 'aloituspaikat', 'alotella', 'alottelen', 'alpeilla', 'alpineissa', 'alpinen', 'alta', 'alueella', 'aluksi', 'alumiinivanteet', 'alusta', 'alustan', 'alustoille', 'amazonista', 'ambientkiekko', 'amd', 'amerikka', 'amerikkaan', 'amg', 'ammattikäytössä', 'ammattilaisseura', 'ammattiliittoihin', 'ammattitaidottomia', 'amount', 'ampua', 'an', 'analogiaa', 'analoginen', 'anathemat', 'android', 'androidilla', 'androidin', 'androidista', 'angosturan', 'angry', 'animals', 'anna', 'annan', 'annoksessa', 'annos', 'another', 'ansainnut', 'ansaitsekkaan', 'antaa', 'antaisin', 'antautuu', 'antisankari', 'antivirukset', 'antivirus', 'antivirusohjelmat', 'ap', 'apa', 'aphex', 'aplla', 'apn', 'appelsiinimehu', 'apple', 'appleen', 'applella', 'appleteiksi', 'applikaatiot', 'appsit', 'aps3', 'apua', 'arcp', 'ardbeg', 'arlan', 'arma', 'army', 'arsulla', 'artisteja', 'arvo', 'arvoa', 'arvoinen', 'arvoiset', 'arvoisinta', 'arvoja', 'arvokkaamman', 'arvokkaassa', 'arvokkaasti', 'arvokkain', 'arvon', 'arvonsa', 'arvosanat', 'arvosta', 'arvostan', 'arvosteluja', 'arvostelut', 'arvostuksesta', 'asaanut', 'asema', 'asemalla', 'asenna', 'asennettua', 'asennettuna', 'asennuksella', 'asensin', 'asentaa', 'asentamaan', 'asentanut', 'asento', 'asetelma', 'aseteltu', 'asetukset', 'asia', 'asiaa', 'asiaan', 'asiaansa', 'asiakasta', 'asiallinen', 'asiallisesta', 'asialliset', 'asian', 'asiantuntemusta', 'asiassa', 'asiasta', 'asioihin', 'asioista', 'asioita', 'askeleen', 'asp', 'asphodel', 'aspire', 'asteen', 'asti', 'aston', 'asu', 'asuksen', 'asun', 'asut', 'ateria', 'athletics', 'ati', 'atk', 'atleticon', 'atletin', 'atmega', 'atomien', 'atomin', 'atrian', 'audacityssä', 'audeissa', 'audeja', 'audi', 'audiin', 'audikaupasta', 'audikauppias', 'audille', 'audilta', 'audin', 'audio', 'audion', 'audissa', 'audit', 'auki', 'aukko', 'auktoriteettiasema', 'aurinko', 'autistien', 'auto', 'autoa', 'autohan', 'autoihin', 'autoilla', 'autoista', 'autoja', 'autojen', 'autokanta', 'autoksi', 'autolle', 'automaattia', 'automaattilaatikko', 'automaattimaailman', 'automaattinen', 'automaattisesti', 'automalleihin', 'automerkki', 'auton', 'autoonn', 'autossa', 'autosta', 'autotallin', 'autothan', 'auttaa', 'auttanut', 'avaa', 'avaamista', 'avasi', 'avast', 'avata', 'avatessaan', 'avattuasi', 'avensikseen', 'avensiksessa', 'avensis', 'avensista', 'avg', 'aviarkin', 'avoimet', 'avulla', 'avx2', 'awilcoa', 'aztra', 'aztran', 'b230ft', 'b5', 'b7', 'baareihin', 'baareissakin', 'baarissa', 'babys', 'backspace', 'baconikin', 'bakteerin', 'ballantine', 'ballstreams', 'barca', 'barcan', 'barcankin', 'barcasta', 'barcelonaa', 'barcelonalle', 'barcelonan', 'baron', 'bashaamiseen', 'batterya', 'bay', 'bayern', 'bayernin', 'bbc', 'bbj', 'bdw', 'beastia', 'beat', 'beatles', 'because', 'bell', 'beluga', 'belvedereä', 'bemareiden', 'bemareihin', 'bemareilla', 'bemareista', 'bemari', 'bemaria', 'bemarilla', 'bemarin', 'bemarissa', 'bemarit', 'bemarithan', 'bemmit', 'bemut', 'benchmarkeissa', 'benchmarkkeja', 'bensaakin', 'bensakoneella', 'bensakoneet', 'bensamoottoreihin', 'benz', 'berkshirelle', 'bertonen', 'best', 'betistä', 'better', 'bf3', 'bf4', 'biiseistä', 'biisejä', 'biisi', 'biisin', 'biisiä', 'biisu', 'biiteissä', 'biitit', 'bike', 'bilt', 'bimmereiden', 'biotiehen', 'bird', 'birdsiä', 'bisnekset', 'bitcoineilla', 'bittiraha', 'bjj', 'blaablaa', 'black', 'blandikset', 'blend', 'blenderini', 'bloattia', 'bloattiframework', 'blue', 'blueja', 'blues', 'bluescreeniä', 'bmw', 'bmwn', 'bmx', 'boards', 'bob', 'bodomvaiheen', 'boikotoida', 'bones', 'bonesit', 'bongannut', 'bongasin', 'bongattu', 'bonuksia', 'bootissa', 'bootstrapilla', 'bootstrapin', 'bootterit', 'bootti', 'borgiin', 'bose', 'bossia', 'boston', 'botit', 'bourbonia', 'brandinimi', 'bravia', 'brewdogia', 'brilliant', 'brittifutis', 'broidilla', 'brommapojkarnan', 'brostep', 'brostepin', 'brändättyjä', 'bsd', 'bt', 'budjettiin', 'bueno', 'buffet', 'buffett', 'bugaavan', 'bugeja', 'buginen', 'bulkimpaa', 'bullin', 'bump', 'bumppaan', 'bumppaillaan', 'burger', 'burgerit', 'bussipysäkillä', 'buzz', 'by', 'byrokratiaa', 'bändejä', 'bändi', 'bängää', 'böndelle', 'c6', 'cacheen', 'cafegrano', 'caliber', 'called', 'camryn', 'canyon', 'car', 'carabon', 'cargotec', 'carne', 'carnea', 'carneen', 'carnen', 'carrickia', 'catalyst', 'caviar', 'cc', 'ccrän', 'cde123r', 'cde9880r', 'celeron', 'cerviniasta', 'ceyloniin', 'ch', 'chamonixissa', 'champ', 'changin', 'cheddaria', 'chelsea', 'chelsealle', 'chelsealta', 'chelsean', 'chili', 'chilicon', 'chkdsk', 'chop', 'chopinista', 'chromeen', 'chromium', 'chromiumista', 'chrysler', 'ci', 'cinnamonia', 'cisco', 'ciscon', 'citican', 'citikan', 'citikoissa', 'citroeniltä', 'city', 'cityhotellin', 'citymarketeissa', 'cityn', 'cityä', 'civic', 'civicin', 'civicit', 'civikkejä', 'civikkiä', 'cl600', 'clang', 'classic', 'classicia', 'classicin', 'clio', 'clipse', 'clocked', 'cls', 'cmx', 'cocktaileihin', 'coffee', 'coffeescriptissä', 'com', 'combat', 'comissa', 'commandiin', 'commandin', 'compact', 'compaq', 'con', 'const', 'construct', 'continental', 'control', 'coolerit', 'copypastaaminen', 'copypastettaminen', 'coreboot', 'corolla', 'corolloissa', 'coronaa', 'correct', 'corsa', 'corsair', 'corsairin', 'cossussa', 'costa', 'costasta', 'coupe', 'coutinho', 'cpt', 'cq60', 'creative', 'creativet', 'creditsien', 'crossfitin', 'crucial', 'cruise', 'crx', 'cryptsyllä', 'crystal', 'cupin', 'cupra', 'cut', 'cyanegen', 'cyanegenmodia', 'cyanogenmod', 'cyanogenmodin', 'cyanotic', 'cybergun', 'cynicin', 'cäbiä', 'danin', 'danny', 'danske', 'dap', 'dark', 'darkin', 'darkthronen', 'data', 'dataa', 'datan', 'datsuni', 'david', 'dd', 'ddd', 'dddddd', 'de', 'dealbreaker', 'death', 'defaultti', 'defender', 'defenderiä', 'define', 'dellinyt', 'deltacon', 'demarit', 'demigodin', 'demoversiokin', 'deniss', 'depeche', 'derby', 'design', 'desire', 'desktoppi', 'desktoppiympäristön', 'developerversio', 'devin', 'dew', 'dg', 'diego', 'diesel', 'dieselin', 'diggailen', 'digitaalinen', 'digitaalisia', 'diili', 'diiliä', 'diippi', 'diktaattorien', 'din', 'dirt', 'discount', 'discs', 'diskin', 'dissata', 'distroista', 'distron', 'distrot', 'djangoon', 'dna', 'dokumentoida', 'dokumentteja', 'dollari', 'dollarilla', 'dominator', 'dominoivaa', 'dos', 'dosboxissa', 'double', 'douppaa', 'dr', 'drifteri', 'driftiasetuksilla', 'driftiin', 'drinkkeihin', 'drinkkivodka', 'drivereihin', 'driverinä', 'drunk', 'dsg', 'dualcore', 'dubsteppiä', 'ducky', 'duckyltä', 'duckystä', 'dummies', 'durkuhupaisaa', 'duunikaverilta', 'duunikoneeseen', 'duuninteon', 'duurisointu', 'dvbviewer', 'dvd', 'dylan', 'dynamic', 'e200', 'e30', 'e60', 'e90', 'e92', 'earl', 'earmaster', 'eax', 'eb', 'ebay', 'ebaysta', 'ebin', 'eclipse', 'eclipsen', 'edelle', 'edelleen', 'edelleenkin', 'edelleenkään', 'edellisen', 'edellisessä', 'edellisessäkään', 'edellisten', 'edellämainituista', 'edeltävä', 'edes', 'edessä', 'edestä', 'edetessä', 'edistyneempi', 'editoreita', 'editori', 'edullinen', 'eduskunnan', 'eduskuntavaaleissa', 'eduskuntavaalit_1991', 'edustaa', 'eemeli', 'een', 'ees', 'ehdokasta', 'ehdotelkaas', 'ehdottanut', 'ehdottoman', 'ehdottomasti', 'ehdotukselle', 'ehdotuksia', 'ehjänä', 'ehkä', 'ehkäpä', 'ehtii', 'ehtiä']\n"
          ],
          "name": "stdout"
        }
      ]
    },
    {
      "cell_type": "markdown",
      "metadata": {
        "id": "IXatmcqHbBsR",
        "colab_type": "text"
      },
      "source": [
        "# Data split\n",
        "\n"
      ]
    },
    {
      "cell_type": "code",
      "metadata": {
        "id": "KUWEL26QbBsV",
        "colab_type": "code",
        "colab": {}
      },
      "source": [
        "from sklearn.model_selection import train_test_split\n",
        "\n",
        "train_texts, dev_texts, train_labels, dev_labels=train_test_split(texts,labels,test_size=0.2,stratify=labels)\n",
        "vectorizer=CountVectorizer(max_features=100000,binary=True,ngram_range=(1,1))\n",
        "feature_matrix_train=vectorizer.fit_transform(train_texts)\n",
        "feature_matrix_dev=vectorizer.transform(dev_texts)"
      ],
      "execution_count": 0,
      "outputs": []
    },
    {
      "cell_type": "code",
      "metadata": {
        "id": "qzxeKGJybBsk",
        "colab_type": "code",
        "outputId": "2676c19b-7df9-4a12-9315-b3004d900f0f",
        "colab": {
          "base_uri": "https://localhost:8080/",
          "height": 52
        }
      },
      "source": [
        "print(feature_matrix_train.shape)\n",
        "print(feature_matrix_dev.shape)"
      ],
      "execution_count": 0,
      "outputs": [
        {
          "output_type": "stream",
          "text": [
            "(537, 6644)\n",
            "(135, 6644)\n"
          ],
          "name": "stdout"
        }
      ]
    },
    {
      "cell_type": "markdown",
      "metadata": {
        "id": "Jx7xH28lbBsw",
        "colab_type": "text"
      },
      "source": [
        "# Classifier train\n",
        "\n",
        "* Let us try the venerable, if a bit outdated SVM\n",
        "* Linear SVM for simplicity"
      ]
    },
    {
      "cell_type": "code",
      "metadata": {
        "id": "eU9GJ_VvbBs3",
        "colab_type": "code",
        "outputId": "eae30304-a0a6-4fc5-f47b-430e0b8342de",
        "colab": {
          "base_uri": "https://localhost:8080/",
          "height": 86
        }
      },
      "source": [
        "import sklearn.svm\n",
        "classifier=sklearn.svm.LinearSVC(C=50,verbose=1)\n",
        "classifier.fit(feature_matrix_train, train_labels)"
      ],
      "execution_count": 0,
      "outputs": [
        {
          "output_type": "stream",
          "text": [
            "[LibLinear]"
          ],
          "name": "stdout"
        },
        {
          "output_type": "execute_result",
          "data": {
            "text/plain": [
              "LinearSVC(C=50, class_weight=None, dual=True, fit_intercept=True,\n",
              "          intercept_scaling=1, loss='squared_hinge', max_iter=1000,\n",
              "          multi_class='ovr', penalty='l2', random_state=None, tol=0.0001,\n",
              "          verbose=1)"
            ]
          },
          "metadata": {
            "tags": []
          },
          "execution_count": 94
        }
      ]
    },
    {
      "cell_type": "code",
      "metadata": {
        "id": "PdLG0PAjZFMb",
        "colab_type": "code",
        "outputId": "035b20a3-7c2e-4434-8f57-5b5dccfc6e2c",
        "colab": {
          "base_uri": "https://localhost:8080/",
          "height": 52
        }
      },
      "source": [
        "classifier.fit(feature_matrix_train, train_labels)\n",
        "print(\"DEV\",classifier.score(feature_matrix_dev, dev_labels))\n",
        "print(\"TRAIN\",classifier.score(feature_matrix_train, train_labels))"
      ],
      "execution_count": 0,
      "outputs": [
        {
          "output_type": "stream",
          "text": [
            "[LibLinear]DEV 0.6\n",
            "TRAIN 1.0\n"
          ],
          "name": "stdout"
        }
      ]
    },
    {
      "cell_type": "code",
      "metadata": {
        "id": "FSIVHx64bBtd",
        "colab_type": "code",
        "outputId": "97ff78b5-8eab-48f1-8742-70f21b0931c5",
        "colab": {
          "base_uri": "https://localhost:8080/",
          "height": 69
        }
      },
      "source": [
        "import sklearn.metrics\n",
        "predictions_dev=classifier.predict(feature_matrix_dev)\n",
        "#print(predictions_dev)\n",
        "print(sklearn.metrics.confusion_matrix(dev_labels,predictions_dev))\n",
        "print(sklearn.metrics.accuracy_score(dev_labels,predictions_dev))"
      ],
      "execution_count": 0,
      "outputs": [
        {
          "output_type": "stream",
          "text": [
            "[[18 31]\n",
            " [23 63]]\n",
            "0.6\n"
          ],
          "name": "stdout"
        }
      ]
    },
    {
      "cell_type": "markdown",
      "metadata": {
        "id": "npgsixMUOdz-",
        "colab_type": "text"
      },
      "source": [
        "## Toy data for benchmarking"
      ]
    },
    {
      "cell_type": "code",
      "metadata": {
        "id": "s7cl4nhmNBZ0",
        "colab_type": "code",
        "outputId": "8f1b7bc8-59f0-443f-9a5f-13ae1dff2ae9",
        "colab": {
          "base_uri": "https://localhost:8080/",
          "height": 86
        }
      },
      "source": [
        "TOYtexts = texts\n",
        "random.shuffle(TOYtexts)\n",
        "TOYlabels = labels\n",
        "#random.shuffle(TOYlabels)\n",
        "# classifier\n",
        "TOYclassifier=sklearn.svm.LinearSVC(C=0.5,verbose=1)\n",
        "# data split\n",
        "TOYtrain_texts, TOYdev_texts, TOYtrain_labels, TOYdev_labels=train_test_split(TOYtexts,TOYlabels,test_size=0.2,stratify=TOYlabels)\n",
        "# vectorizer\n",
        "TOYvectorizer=CountVectorizer(max_features=100000,binary=True,ngram_range=(1,1))\n",
        "# training\n",
        "TOYfeature_matrix_train=TOYvectorizer.fit_transform(TOYtrain_texts)\n",
        "# apply model\n",
        "TOYfeature_matrix_dev=TOYvectorizer.transform(TOYdev_texts)\n",
        "# let the model try to do its best\n",
        "TOYclassifier.fit(TOYfeature_matrix_train, TOYtrain_labels)\n",
        "# examine scores\n",
        "print(\"TOYDEV\",TOYclassifier.score(TOYfeature_matrix_dev, TOYdev_labels))\n",
        "print(\"TOYTRAIN\",TOYclassifier.score(TOYfeature_matrix_train, TOYtrain_labels))\n",
        "# for confusion matrix\n",
        "TOYpredictions_dev=TOYclassifier.predict(TOYfeature_matrix_dev)\n",
        "print(sklearn.metrics.confusion_matrix(TOYdev_labels,TOYpredictions_dev))"
      ],
      "execution_count": 0,
      "outputs": [
        {
          "output_type": "stream",
          "text": [
            "[LibLinear]TOYDEV 0.562962962962963\n",
            "TOYTRAIN 1.0\n",
            "[[12 37]\n",
            " [22 64]]\n"
          ],
          "name": "stdout"
        }
      ]
    },
    {
      "cell_type": "markdown",
      "metadata": {
        "id": "Cl-06Refn7ea",
        "colab_type": "text"
      },
      "source": [
        "*Performance is about 50 % as it should be with randomized data"
      ]
    }
  ]
}